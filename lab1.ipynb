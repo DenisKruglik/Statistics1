{
 "cells": [
  {
   "cell_type": "markdown",
   "source": [
    "Создадим первую выборку"
   ],
   "metadata": {
    "collapsed": false,
    "pycharm": {
     "name": "#%% md\n"
    }
   }
  },
  {
   "cell_type": "code",
   "execution_count": 1,
   "metadata": {
    "collapsed": true,
    "pycharm": {
     "is_executing": false
    }
   },
   "outputs": [
    {
     "data": {
      "text/plain": "7        40.0\n26       60.9\n42       33.3\n57       61.5\n72       61.5\n         ... \n15570    57.1\n15585    12.5\n15598    25.0\n15629    16.7\n15637    50.0\nName: FieldGoalsPercentage, Length: 527, dtype: float64"
     },
     "metadata": {},
     "output_type": "execute_result",
     "execution_count": 1
    }
   ],
   "source": [
    "import pandas as pd\n",
    "data = pd.read_csv('Data.csv')\n",
    "data = data[data['Name'] == 'Tim Duncan']\n",
    "first_selection = data['FieldGoalsPercentage'][~data['FieldGoalsPercentage'].isin([0, 100])]\n",
    "first_selection"
   ]
  },
  {
   "cell_type": "markdown",
   "source": [
    "И вторую\n"
   ],
   "metadata": {
    "collapsed": false,
    "pycharm": {
     "name": "#%% md\n"
    }
   }
  },
  {
   "cell_type": "code",
   "execution_count": 2,
   "outputs": [
    {
     "data": {
      "text/plain": "7        10\n26       23\n42        6\n57       13\n72       13\n         ..\n15585     8\n15598     4\n15612     0\n15629     6\n15637    14\nName: FieldGoalsAttempted, Length: 537, dtype: int64"
     },
     "metadata": {},
     "output_type": "execute_result",
     "execution_count": 2
    }
   ],
   "source": [
    "second_selection = data['FieldGoalsAttempted']\n",
    "second_selection"
   ],
   "metadata": {
    "collapsed": false,
    "pycharm": {
     "name": "#%%\n",
     "is_executing": false
    }
   }
  },
  {
   "cell_type": "markdown",
   "source": [
    "Теперь построим вариационный ряд для первой выборки"
   ],
   "metadata": {
    "collapsed": false
   }
  },
  {
   "cell_type": "code",
   "execution_count": 3,
   "outputs": [
    {
     "data": {
      "text/plain": "     0 - 10   10 - 20   20 - 30   30 - 40   40 - 50   50 - 60   60 - 70  \\\n0  0.001898  0.020873  0.041746  0.148008  0.227704  0.301708  0.184061   \n\n    70 - 80  80 - 90  \n0  0.049336  0.02277  ",
      "text/html": "<div>\n<style scoped>\n    .dataframe tbody tr th:only-of-type {\n        vertical-align: middle;\n    }\n\n    .dataframe tbody tr th {\n        vertical-align: top;\n    }\n\n    .dataframe thead th {\n        text-align: right;\n    }\n</style>\n<table border=\"1\" class=\"dataframe\">\n  <thead>\n    <tr style=\"text-align: right;\">\n      <th></th>\n      <th>0 - 10</th>\n      <th>10 - 20</th>\n      <th>20 - 30</th>\n      <th>30 - 40</th>\n      <th>40 - 50</th>\n      <th>50 - 60</th>\n      <th>60 - 70</th>\n      <th>70 - 80</th>\n      <th>80 - 90</th>\n    </tr>\n  </thead>\n  <tbody>\n    <tr>\n      <th>0</th>\n      <td>0.001898</td>\n      <td>0.020873</td>\n      <td>0.041746</td>\n      <td>0.148008</td>\n      <td>0.227704</td>\n      <td>0.301708</td>\n      <td>0.184061</td>\n      <td>0.049336</td>\n      <td>0.02277</td>\n    </tr>\n  </tbody>\n</table>\n</div>"
     },
     "metadata": {},
     "output_type": "execute_result",
     "execution_count": 3
    }
   ],
   "source": [
    "def variation_series(selection, step):\n",
    "    length = len(selection)\n",
    "    maximum = selection.max()\n",
    "    current = 0\n",
    "    series = {}\n",
    "    while current < maximum:\n",
    "        key = '%s - %s' % (current, current + step)\n",
    "        series[key] = [len(selection[(current <= selection) & (selection < current + step)]) / length]\n",
    "        current += step\n",
    "    return pd.DataFrame(series)\n",
    "\n",
    "variation_series(first_selection, 10)"
   ],
   "metadata": {
    "collapsed": false,
    "pycharm": {
     "name": "#%%\n",
     "is_executing": false
    }
   }
  },
  {
   "cell_type": "markdown",
   "source": [
    "\n",
    "И для второй"
   ],
   "metadata": {
    "collapsed": false
   }
  },
  {
   "cell_type": "code",
   "execution_count": 4,
   "outputs": [
    {
     "data": {
      "text/plain": "      0 - 5    5 - 10   10 - 15   15 - 20   20 - 25   25 - 30\n0  0.027933  0.243948  0.435754  0.223464  0.063315  0.005587",
      "text/html": "<div>\n<style scoped>\n    .dataframe tbody tr th:only-of-type {\n        vertical-align: middle;\n    }\n\n    .dataframe tbody tr th {\n        vertical-align: top;\n    }\n\n    .dataframe thead th {\n        text-align: right;\n    }\n</style>\n<table border=\"1\" class=\"dataframe\">\n  <thead>\n    <tr style=\"text-align: right;\">\n      <th></th>\n      <th>0 - 5</th>\n      <th>5 - 10</th>\n      <th>10 - 15</th>\n      <th>15 - 20</th>\n      <th>20 - 25</th>\n      <th>25 - 30</th>\n    </tr>\n  </thead>\n  <tbody>\n    <tr>\n      <th>0</th>\n      <td>0.027933</td>\n      <td>0.243948</td>\n      <td>0.435754</td>\n      <td>0.223464</td>\n      <td>0.063315</td>\n      <td>0.005587</td>\n    </tr>\n  </tbody>\n</table>\n</div>"
     },
     "metadata": {},
     "output_type": "execute_result",
     "execution_count": 4
    }
   ],
   "source": [
    "variation_series(second_selection, 5)"
   ],
   "metadata": {
    "collapsed": false,
    "pycharm": {
     "name": "#%%\n",
     "is_executing": false
    }
   }
  },
  {
   "cell_type": "markdown",
   "source": [
    "\n",
    "Выборочное среднее для первой"
   ],
   "metadata": {
    "collapsed": false
   }
  },
  {
   "cell_type": "code",
   "execution_count": 5,
   "outputs": [
    {
     "data": {
      "text/plain": "49.92390891840608"
     },
     "metadata": {},
     "output_type": "execute_result",
     "execution_count": 5
    }
   ],
   "source": [
    "first_selection.mean()"
   ],
   "metadata": {
    "collapsed": false,
    "pycharm": {
     "name": "#%%\n",
     "is_executing": false
    }
   }
  },
  {
   "cell_type": "markdown",
   "source": [
    "\n",
    "И для второй"
   ],
   "metadata": {
    "collapsed": false
   }
  },
  {
   "cell_type": "code",
   "execution_count": 6,
   "outputs": [
    {
     "data": {
      "text/plain": "12.327746741154563"
     },
     "metadata": {},
     "output_type": "execute_result",
     "execution_count": 6
    }
   ],
   "source": [
    "second_selection.mean()"
   ],
   "metadata": {
    "collapsed": false,
    "pycharm": {
     "name": "#%%\n",
     "is_executing": false
    }
   }
  },
  {
   "cell_type": "markdown",
   "source": [
    "Выборочная дисперсия для первой"
   ],
   "metadata": {
    "collapsed": false
   }
  },
  {
   "cell_type": "code",
   "execution_count": 7,
   "outputs": [
    {
     "data": {
      "text/plain": "198.06443785128724"
     },
     "metadata": {},
     "output_type": "execute_result",
     "execution_count": 7
    }
   ],
   "source": [
    "import math\n",
    "\n",
    "def central_moment(selection, k):\n",
    "    length = len(selection)\n",
    "    mean = selection.mean()\n",
    "    sum = 0\n",
    "    for item in selection:\n",
    "        sum += math.pow(item - mean, k)\n",
    "    return sum / length\n",
    "\n",
    "central_moment(first_selection, 2)"
   ],
   "metadata": {
    "collapsed": false,
    "pycharm": {
     "name": "#%%\n",
     "is_executing": false
    }
   }
  },
  {
   "cell_type": "markdown",
   "source": [
    "\n",
    "И для второй"
   ],
   "metadata": {
    "collapsed": false
   }
  },
  {
   "cell_type": "code",
   "execution_count": 8,
   "outputs": [
    {
     "data": {
      "text/plain": "20.261297157461467"
     },
     "metadata": {},
     "output_type": "execute_result",
     "execution_count": 8
    }
   ],
   "source": [
    "central_moment(second_selection, 2)"
   ],
   "metadata": {
    "collapsed": false,
    "pycharm": {
     "name": "#%%\n",
     "is_executing": false
    }
   }
  },
  {
   "cell_type": "markdown",
   "source": [
    "\n",
    "Исправленная дисперсия для первой"
   ],
   "metadata": {
    "collapsed": false
   }
  },
  {
   "cell_type": "code",
   "execution_count": 9,
   "outputs": [
    {
     "data": {
      "text/plain": "198.44098621222125"
     },
     "metadata": {},
     "output_type": "execute_result",
     "execution_count": 9
    }
   ],
   "source": [
    "def corrected_variance(selection):\n",
    "    length = len(selection)\n",
    "    return (length / (length - 1)) * central_moment(selection, 2)\n",
    "\n",
    "corrected_variance(first_selection)"
   ],
   "metadata": {
    "collapsed": false,
    "pycharm": {
     "name": "#%%\n",
     "is_executing": false
    }
   }
  },
  {
   "cell_type": "markdown",
   "source": [
    "\n",
    "И для второй"
   ],
   "metadata": {
    "collapsed": false
   }
  },
  {
   "cell_type": "code",
   "execution_count": 10,
   "outputs": [
    {
     "data": {
      "text/plain": "20.299098084994046"
     },
     "metadata": {},
     "output_type": "execute_result",
     "execution_count": 10
    }
   ],
   "source": [
    "corrected_variance(second_selection)"
   ],
   "metadata": {
    "collapsed": false,
    "pycharm": {
     "name": "#%%\n",
     "is_executing": false
    }
   }
  },
  {
   "cell_type": "markdown",
   "source": [
    "Коэффициент ассиметрии для первой"
   ],
   "metadata": {
    "collapsed": false,
    "pycharm": {
     "name": "#%% md\n"
    }
   }
  },
  {
   "cell_type": "code",
   "execution_count": 11,
   "outputs": [
    {
     "data": {
      "text/plain": "-0.043344497921975284"
     },
     "metadata": {},
     "output_type": "execute_result",
     "execution_count": 11
    }
   ],
   "source": [
    "def asymmetry_coefficient(selection):\n",
    "    moment3 = central_moment(selection, 3)\n",
    "    moment2 = central_moment(selection, 2)\n",
    "    return moment3 / math.pow(moment2, 3 / 2)\n",
    "\n",
    "asymmetry_coefficient(first_selection)"
   ],
   "metadata": {
    "collapsed": false,
    "pycharm": {
     "name": "#%%\n",
     "is_executing": false
    }
   }
  },
  {
   "cell_type": "markdown",
   "source": [
    "И для второй"
   ],
   "metadata": {
    "collapsed": false,
    "pycharm": {
     "name": "#%% md\n"
    }
   }
  },
  {
   "cell_type": "code",
   "execution_count": 12,
   "outputs": [
    {
     "data": {
      "text/plain": "0.20449439855961962"
     },
     "metadata": {},
     "output_type": "execute_result",
     "execution_count": 12
    }
   ],
   "source": [
    "asymmetry_coefficient(second_selection)"
   ],
   "metadata": {
    "collapsed": false,
    "pycharm": {
     "name": "#%%\n",
     "is_executing": false
    }
   }
  },
  {
   "cell_type": "markdown",
   "source": [
    "Эксцесс для первой выборки"
   ],
   "metadata": {
    "collapsed": false,
    "pycharm": {
     "name": "#%% md\n"
    }
   }
  },
  {
   "cell_type": "code",
   "execution_count": 13,
   "outputs": [
    {
     "data": {
      "text/plain": "0.15686705819937075"
     },
     "metadata": {},
     "output_type": "execute_result",
     "execution_count": 13
    }
   ],
   "source": [
    "def excess(selection):\n",
    "    moment4 = central_moment(selection, 4)\n",
    "    moment2 = central_moment(selection, 2)\n",
    "    return (moment4 / math.pow(moment2, 2)) - 3\n",
    "\n",
    "excess(first_selection)"
   ],
   "metadata": {
    "collapsed": false,
    "pycharm": {
     "name": "#%%\n",
     "is_executing": false
    }
   }
  },
  {
   "cell_type": "markdown",
   "source": [
    "И для второй"
   ],
   "metadata": {
    "collapsed": false,
    "pycharm": {
     "name": "#%% md\n"
    }
   }
  },
  {
   "cell_type": "code",
   "execution_count": 14,
   "outputs": [
    {
     "data": {
      "text/plain": "-0.14326343821126164"
     },
     "metadata": {},
     "output_type": "execute_result",
     "execution_count": 14
    }
   ],
   "source": [
    "excess(second_selection)"
   ],
   "metadata": {
    "collapsed": false,
    "pycharm": {
     "name": "#%%\n",
     "is_executing": false
    }
   }
  },
  {
   "cell_type": "markdown",
   "source": [
    "Размах первой выборки"
   ],
   "metadata": {
    "collapsed": false,
    "pycharm": {
     "name": "#%% md\n"
    }
   }
  },
  {
   "cell_type": "code",
   "execution_count": 15,
   "outputs": [
    {
     "data": {
      "text/plain": "81.7"
     },
     "metadata": {},
     "output_type": "execute_result",
     "execution_count": 15
    }
   ],
   "source": [
    "def selection_range(selection):\n",
    "    return selection.max() - selection.min()\n",
    "\n",
    "selection_range(first_selection)"
   ],
   "metadata": {
    "collapsed": false,
    "pycharm": {
     "name": "#%%\n",
     "is_executing": false
    }
   }
  },
  {
   "cell_type": "markdown",
   "source": [
    "Второй"
   ],
   "metadata": {
    "collapsed": false,
    "pycharm": {
     "name": "#%% md\n"
    }
   }
  },
  {
   "cell_type": "code",
   "execution_count": 16,
   "outputs": [
    {
     "data": {
      "text/plain": "26"
     },
     "metadata": {},
     "output_type": "execute_result",
     "execution_count": 16
    }
   ],
   "source": [
    "selection_range(second_selection)"
   ],
   "metadata": {
    "collapsed": false,
    "pycharm": {
     "name": "#%%\n",
     "is_executing": false
    }
   }
  },
  {
   "cell_type": "markdown",
   "source": [
    "Медиана первой выборки"
   ],
   "metadata": {
    "collapsed": false,
    "pycharm": {
     "name": "#%% md\n"
    }
   }
  },
  {
   "cell_type": "code",
   "execution_count": 17,
   "outputs": [
    {
     "data": {
      "text/plain": "50.0"
     },
     "metadata": {},
     "output_type": "execute_result",
     "execution_count": 17
    }
   ],
   "source": [
    "first_selection.median()"
   ],
   "metadata": {
    "collapsed": false,
    "pycharm": {
     "name": "#%%\n",
     "is_executing": false
    }
   }
  },
  {
   "cell_type": "markdown",
   "source": [
    "Второй"
   ],
   "metadata": {
    "collapsed": false,
    "pycharm": {
     "name": "#%% md\n"
    }
   }
  },
  {
   "cell_type": "code",
   "execution_count": 18,
   "outputs": [
    {
     "data": {
      "text/plain": "12.0"
     },
     "metadata": {},
     "output_type": "execute_result",
     "execution_count": 18
    }
   ],
   "source": [
    "second_selection.median()"
   ],
   "metadata": {
    "collapsed": false,
    "pycharm": {
     "name": "#%%\n",
     "is_executing": false
    }
   }
  },
  {
   "cell_type": "markdown",
   "source": [
    "Квартили и квантиль уровня 1/3 первой выборки"
   ],
   "metadata": {
    "collapsed": false,
    "pycharm": {
     "name": "#%% md\n"
    }
   }
  },
  {
   "cell_type": "code",
   "execution_count": 19,
   "outputs": [
    {
     "name": "stdout",
     "text": [
      "q = 1/4; Z = 40.0\n",
      "q = 1/2; Z = 50.0\n",
      "q = 3/4; Z = 60.0\n",
      "q = 1/3; Z = 43.8\n"
     ],
     "output_type": "stream"
    }
   ],
   "source": [
    "print('q = 1/4; Z = %s' % first_selection.quantile(.25))\n",
    "print('q = 1/2; Z = %s' % first_selection.median())\n",
    "print('q = 3/4; Z = %s' % first_selection.quantile(.75))\n",
    "print('q = 1/3; Z = %s' % first_selection.quantile(1/3))"
   ],
   "metadata": {
    "collapsed": false,
    "pycharm": {
     "name": "#%%\n",
     "is_executing": false
    }
   }
  },
  {
   "cell_type": "markdown",
   "source": [
    "Второй"
   ],
   "metadata": {
    "collapsed": false,
    "pycharm": {
     "name": "#%% md\n"
    }
   }
  },
  {
   "cell_type": "code",
   "execution_count": 20,
   "outputs": [
    {
     "name": "stdout",
     "text": [
      "q = 1/4; Z = 9.0\n",
      "q = 1/2; Z = 12.0\n",
      "q = 3/4; Z = 15.0\n",
      "q = 1/3; Z = 10.0\n"
     ],
     "output_type": "stream"
    }
   ],
   "source": [
    "print('q = 1/4; Z = %s' % second_selection.quantile(.25))\n",
    "print('q = 1/2; Z = %s' % second_selection.median())\n",
    "print('q = 3/4; Z = %s' % second_selection.quantile(.75))\n",
    "print('q = 1/3; Z = %s' % second_selection.quantile(1/3))"
   ],
   "metadata": {
    "collapsed": false,
    "pycharm": {
     "name": "#%%\n",
     "is_executing": false
    }
   }
  },
  {
   "cell_type": "markdown",
   "source": [
    "Гистограмма, полигон частот и график плотности (вероятностей) нормального закона распределения для первой выборки"
   ],
   "metadata": {
    "collapsed": false,
    "pycharm": {
     "name": "#%% md\n"
    }
   }
  },
  {
   "cell_type": "code",
   "execution_count": 111,
   "outputs": [
    {
     "data": {
      "text/plain": "<Figure size 432x288 with 3 Axes>",
      "image/png": "[encoded data removed]"
     },
     "metadata": {},
     "output_type": "display_data"
    }
   ],
   "source": [
    "import numpy as np\n",
    "import matplotlib.pyplot as plt\n",
    "import scipy.stats\n",
    "%matplotlib inline\n",
    "\n",
    "def mixed_plot(selection, step, func, *args):\n",
    "    var = variation_series(selection, step).loc[0]\n",
    "    fig, ax1 = plt.subplots()\n",
    "    ax1.hist(selection, color=\"C1\")\n",
    "    ax1.tick_params(axis='x', colors=\"C1\")\n",
    "    ax1.tick_params(axis='y', colors=\"C1\")\n",
    "\n",
    "    dots_amount = selection.max() // step if (selection.max() / step) % 1 == 0 else (selection.max() // step) + 1\n",
    "    x = np.linspace(0, selection.max(), dots_amount)\n",
    "    ax2 = ax1.twinx()\n",
    "    ax2.plot(x, var, color=\"C2\")\n",
    "    ax2.tick_params(axis='x', colors=\"C2\")\n",
    "    ax2.tick_params(axis='y', colors=\"C2\")\n",
    "    \n",
    "    ax3 = ax2.twinx()\n",
    "    y = func(*args)\n",
    "    ax3.plot(x, y, color=\"C3\")\n",
    "    ax3.tick_params(axis='x', colors=\"C3\")\n",
    "    ax3.tick_params(axis='y', colors=\"C3\")\n",
    "    \n",
    "    plt.show()\n",
    "\n",
    "mixed_plot(first_selection, 10, scipy.stats.norm.pdf, np.linspace(0, first_selection.max(), first_selection.max() // 10), first_selection.mean(), corrected_variance(first_selection))"
   ],
   "metadata": {
    "collapsed": false,
    "pycharm": {
     "name": "#%%\n",
     "is_executing": false
    }
   }
  },
  {
   "cell_type": "markdown",
   "source": [
    "И для второй"
   ],
   "metadata": {
    "collapsed": false
   }
  },
  {
   "cell_type": "code",
   "execution_count": 113,
   "outputs": [
    {
     "data": {
      "text/plain": "<Figure size 432x288 with 3 Axes>",
      "image/png": "[encoded data removed]"
     },
     "metadata": {},
     "output_type": "display_data"
    }
   ],
   "source": [
    "var = variation_series(second_selection, 5).loc[0]\n",
    "fig, ax1 = plt.subplots()\n",
    "ax1.hist(second_selection, color=\"C1\")\n",
    "ax1.tick_params(axis='x', colors=\"C1\")\n",
    "ax1.tick_params(axis='y', colors=\"C1\")\n",
    "\n",
    "dots_amount = second_selection.max() // 5 if (second_selection.max() / 5) % 1 == 0 else (second_selection.max() // 5) + 1\n",
    "x = np.linspace(0, second_selection.max(), dots_amount)\n",
    "ax2 = ax1.twinx()\n",
    "ax2.plot(x, var, color=\"C2\")\n",
    "ax2.tick_params(axis='x', colors=\"C2\")\n",
    "ax2.tick_params(axis='y', colors=\"C2\")\n",
    "\n",
    "ax3 = ax2.twinx()\n",
    "y = [scipy.stats.poisson.pmf(i, second_selection.mean()) for i in var]\n",
    "ax3.plot(x, y, color=\"C3\")\n",
    "ax3.tick_params(axis='x', colors=\"C3\")\n",
    "ax3.tick_params(axis='y', colors=\"C3\")\n",
    "\n",
    "plt.show()\n"
   ],
   "metadata": {
    "collapsed": false,
    "pycharm": {
     "name": "#%%\n",
     "is_executing": false
    }
   }
  }
 ],
 "metadata": {
  "kernelspec": {
   "display_name": "Python 3",
   "language": "python",
   "name": "python3"
  },
  "language_info": {
   "codemirror_mode": {
    "name": "ipython",
    "version": 2
   },
   "file_extension": ".py",
   "mimetype": "text/x-python",
   "name": "python",
   "nbconvert_exporter": "python",
   "pygments_lexer": "ipython2",
   "version": "2.7.6"
  },
  "pycharm": {
   "stem_cell": {
    "cell_type": "raw",
    "source": [],
    "metadata": {
     "collapsed": false
    }
   }
  }
 },
 "nbformat": 4,
 "nbformat_minor": 0
}